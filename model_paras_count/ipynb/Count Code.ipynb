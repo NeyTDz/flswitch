{
 "cells": [
  {
   "cell_type": "code",
   "execution_count": 1,
   "metadata": {},
   "outputs": [],
   "source": [
    "import numpy as np\n",
    "import collections"
   ]
  },
  {
   "cell_type": "markdown",
   "metadata": {},
   "source": [
    "### 问题\n",
    "对一个数组 nums 和一个整数 k ，返回其中出现频率前 k 高的元素"
   ]
  },
  {
   "cell_type": "markdown",
   "metadata": {},
   "source": [
    "### Demo Case"
   ]
  },
  {
   "cell_type": "code",
   "execution_count": 2,
   "metadata": {},
   "outputs": [],
   "source": [
    "nums = [1,1,1,1,1,2,2,3,3,3,3,3,3,3,6,6,6,6,4,4,4,4,4,4,9,7,7,7,7]\n",
    "k = 3"
   ]
  },
  {
   "cell_type": "markdown",
   "metadata": {},
   "source": [
    "- 统计不重复元素的频数  $O(n)$"
   ]
  },
  {
   "cell_type": "code",
   "execution_count": 3,
   "metadata": {},
   "outputs": [
    {
     "data": {
      "text/plain": [
       "[(1, 5), (2, 2), (3, 7), (6, 4), (4, 6), (9, 1), (7, 4)]"
      ]
     },
     "execution_count": 3,
     "metadata": {},
     "output_type": "execute_result"
    }
   ],
   "source": [
    "stat = collections.Counter(nums)\n",
    "stat = list(stat.items()) #频次列表\n",
    "stat"
   ]
  },
  {
   "cell_type": "markdown",
   "metadata": {},
   "source": [
    "### 0.baseline 基于排序（快排）"
   ]
  },
  {
   "cell_type": "code",
   "execution_count": 4,
   "metadata": {},
   "outputs": [],
   "source": [
    "def BaseSort(nums,k,stat):\n",
    "    #stat = collections.Counter(nums)\n",
    "    #stat = list(stat.items())    \n",
    "    stat_sorted = sorted(stat,key = lambda x:x[1],reverse=True)\n",
    "    return stat_sorted[:k]\n",
    "    #print(stat_sorted)"
   ]
  },
  {
   "cell_type": "code",
   "execution_count": 5,
   "metadata": {},
   "outputs": [
    {
     "data": {
      "text/plain": [
       "[(3, 7), (4, 6), (1, 5)]"
      ]
     },
     "execution_count": 5,
     "metadata": {},
     "output_type": "execute_result"
    }
   ],
   "source": [
    "BaseSort(nums,k,stat)"
   ]
  },
  {
   "cell_type": "markdown",
   "metadata": {},
   "source": [
    "### 1.基于堆（小顶堆）\n",
    "时间复杂度：$O(nlogk)$\n",
    "空间复杂度：$O(k)$"
   ]
  },
  {
   "cell_type": "code",
   "execution_count": 6,
   "metadata": {},
   "outputs": [],
   "source": [
    "#取父/子节点基本操作\n",
    "def lchild(node):\n",
    "    return node << 1\n",
    "def rchild(node):\n",
    "    return node << 1 | 1\n",
    "def father(node):\n",
    "    return node >> 1\n",
    "#上浮节点，用于向堆插入新节点\n",
    "def heap_up(heap,node):\n",
    "    val = heap[node]\n",
    "    while father(node)>0 and val[1]<heap[father(node)][1]:\n",
    "        heap[node] = heap[father(node)]\n",
    "        node = father(node)\n",
    "    heap[node] = val\n",
    "#下沉节点，用于调整堆\n",
    "def heap_down(heap,node,k):\n",
    "    root = node #root作为变量逐步下沉\n",
    "    val = heap[node] #存储node原值\n",
    "    while lchild(root) <= k:\n",
    "        child = lchild(root) #先选取左子节点\n",
    "        if rchild(root) <= k and child < rchild(root): #如果右更小，选取右子节点\n",
    "            child = rchild(root)\n",
    "        #验证确实当前节点值大于选取的子节点，则交换\n",
    "        if heap[child][1] < val[1]:\n",
    "            heap[root] = heap[child]\n",
    "            root = child\n",
    "        else: #否则则找到位置，结束循环\n",
    "            break\n",
    "    heap[root] = val #最后赋值\n",
    "#堆排序输出\n",
    "def heap_sort(heap):\n",
    "    for i in range(len(heap)-1, 0, -1):\n",
    "        heap[1], heap[i] = heap[i], heap[1]\n",
    "        heap_down(heap, 1, i)\n",
    "#主函数\n",
    "def HeapFrequent(nums,k,stat):\n",
    "    #stat = collections.Counter(nums)\n",
    "    #stat = list(stat.items())\n",
    "    heap = [(0,0)] #占位上界\n",
    "    #使用heap_up()建堆 规模：k+1(包括占位上界) \n",
    "    for i in range(k):\n",
    "        heap.append(stat[i])\n",
    "        heap_up(heap, len(heap)-1)\n",
    "    #使用heap_down()维护堆 新元素大于堆顶即下沉\n",
    "    for i in range(k,len(stat)):\n",
    "        if stat[i][1] > heap[1][1]: #heap[1]为堆顶\n",
    "            heap[1] = stat[i] #去除原根（堆顶）节点\n",
    "            heap_down(heap,1,k) #将node下沉\n",
    "    #使用heap_sort()排序，并倒序得到从大到小结果\n",
    "    heap_sort(heap)\n",
    "    result = heap[1:][::-1]\n",
    "    return result"
   ]
  },
  {
   "cell_type": "code",
   "execution_count": 7,
   "metadata": {},
   "outputs": [
    {
     "data": {
      "text/plain": [
       "[(3, 7), (4, 6), (1, 5)]"
      ]
     },
     "execution_count": 7,
     "metadata": {},
     "output_type": "execute_result"
    }
   ],
   "source": [
    "HeapFrequent(nums,k,stat)"
   ]
  },
  {
   "cell_type": "markdown",
   "metadata": {},
   "source": [
    "### 2.基于桶排序\n",
    "哈希空间集中时，时间、空间复杂度均接近$O(n)$ \n",
    "分散时则增添很多无谓循环开销"
   ]
  },
  {
   "cell_type": "code",
   "execution_count": 8,
   "metadata": {},
   "outputs": [],
   "source": [
    "def BucketFrequent(nums,k,spacesize,stat):\n",
    "    #stat = collections.Counter(nums)\n",
    "    #stat = list(stat.items())\n",
    "    Bucket = [[] for i in range(spacesize)]\n",
    "    for s in stat:\n",
    "        Bucket[s[1]].append(s)\n",
    "        \n",
    "    r = 0\n",
    "    flag = False\n",
    "    result = []\n",
    "    for i in range(len(Bucket)-1,-1,-1):\n",
    "        if not flag and Bucket[i] != []:\n",
    "            for s in Bucket[i]:\n",
    "                result.append(s)\n",
    "                r += 1\n",
    "                if r == k:\n",
    "                    flag = True\n",
    "                    break\n",
    "    return result"
   ]
  },
  {
   "cell_type": "code",
   "execution_count": 9,
   "metadata": {},
   "outputs": [
    {
     "data": {
      "text/plain": [
       "[(3, 7), (4, 6), (1, 5)]"
      ]
     },
     "execution_count": 9,
     "metadata": {},
     "output_type": "execute_result"
    }
   ],
   "source": [
    "spacesize = 10\n",
    "BucketFrequent(nums,k,spacesize,stat)"
   ]
  },
  {
   "cell_type": "markdown",
   "metadata": {
    "collapsed": true
   },
   "source": [
    "### 大量数据实验"
   ]
  },
  {
   "cell_type": "code",
   "execution_count": 11,
   "metadata": {},
   "outputs": [
    {
     "name": "stdout",
     "output_type": "stream",
     "text": [
      "Count costs: 0.5779s\n",
      "Base Sort:\n",
      "[(16829, 598), (3143, 587), (10715, 586)]\n",
      "Base Sort costs: 0.0029s\n",
      "Heap:\n",
      "[(16829, 598), (3143, 587), (1971, 518)]\n",
      "HeapFrequent costs: 0.0015s\n",
      "Bucket:\n",
      "[(16829, 598), (3143, 587), (10715, 586)]\n",
      "BucketFrequent costs: 0.0035s\n"
     ]
    }
   ],
   "source": [
    "import random\n",
    "import time\n",
    "import math\n",
    "\n",
    "client_num = 10000000\n",
    "hash_space = int(client_num / 500)\n",
    "\n",
    "hash_list = [random.randint(1, hash_space) for i in range(client_num)]\n",
    "hash_k = 3\n",
    "\n",
    "st = time.perf_counter()\n",
    "stat = collections.Counter(hash_list)\n",
    "stat = list(stat.items()) #频次列表\n",
    "et = time.perf_counter()\n",
    "print(\"Count costs: {:.4f}s\".format((et-st)))\n",
    "\n",
    "st = time.perf_counter()\n",
    "base_result = BaseSort(hash_list,hash_k,stat)\n",
    "print(\"Base Sort:\")\n",
    "print(base_result)\n",
    "et = time.perf_counter()\n",
    "print(\"Base Sort costs: {:.4f}s\".format((et-st)))\n",
    "\n",
    "\n",
    "st = time.perf_counter()\n",
    "heap_result = HeapFrequent(hash_list,hash_k,stat)\n",
    "print(\"Heap:\")\n",
    "print(heap_result)\n",
    "et = time.perf_counter()\n",
    "print(\"HeapFrequent costs: {:.4f}s\".format((et-st)))\n",
    "\n",
    "st = time.perf_counter()\n",
    "bucket_result = BucketFrequent(hash_list,hash_k,hash_space,stat)\n",
    "print(\"Bucket:\")\n",
    "print(bucket_result)\n",
    "et = time.perf_counter()\n",
    "print(\"BucketFrequent costs: {:.4f}s\".format((et-st)))"
   ]
  },
  {
   "cell_type": "markdown",
   "metadata": {},
   "source": [
    "- 统计"
   ]
  },
  {
   "cell_type": "code",
   "execution_count": 15,
   "metadata": {},
   "outputs": [],
   "source": [
    "s_power = list(range(6,12))\n",
    "s_k = list(range(1,10))\n",
    "base_datas = np.zeros((len(s_power),len(s_k)))\n",
    "count_datas = np.zeros((len(s_power),len(s_k)))\n",
    "heap_datas = np.zeros((len(s_power),len(s_k)))\n",
    "bucket_datas = np.zeros((len(s_power),len(s_k)))"
   ]
  },
  {
   "cell_type": "code",
   "execution_count": 26,
   "metadata": {},
   "outputs": [
    {
     "ename": "MemoryError",
     "evalue": "",
     "output_type": "error",
     "traceback": [
      "\u001b[1;31m---------------------------------------------------------------------------\u001b[0m",
      "\u001b[1;31mMemoryError\u001b[0m                               Traceback (most recent call last)",
      "\u001b[1;32m<ipython-input-26-be4f809a0620>\u001b[0m in \u001b[0;36m<module>\u001b[1;34m\u001b[0m\n\u001b[0;32m      2\u001b[0m     \u001b[0mclient_num\u001b[0m \u001b[1;33m=\u001b[0m \u001b[1;36m10\u001b[0m \u001b[1;33m**\u001b[0m \u001b[0ms_power\u001b[0m\u001b[1;33m[\u001b[0m\u001b[0mp\u001b[0m\u001b[1;33m]\u001b[0m\u001b[1;33m\u001b[0m\u001b[1;33m\u001b[0m\u001b[0m\n\u001b[0;32m      3\u001b[0m     \u001b[0mhash_space\u001b[0m \u001b[1;33m=\u001b[0m \u001b[0mint\u001b[0m\u001b[1;33m(\u001b[0m\u001b[0mclient_num\u001b[0m \u001b[1;33m/\u001b[0m \u001b[1;36m500\u001b[0m\u001b[1;33m)\u001b[0m\u001b[1;33m\u001b[0m\u001b[1;33m\u001b[0m\u001b[0m\n\u001b[1;32m----> 4\u001b[1;33m     \u001b[0mhash_list\u001b[0m \u001b[1;33m=\u001b[0m \u001b[1;33m[\u001b[0m\u001b[0mrandom\u001b[0m\u001b[1;33m.\u001b[0m\u001b[0mrandint\u001b[0m\u001b[1;33m(\u001b[0m\u001b[1;36m1\u001b[0m\u001b[1;33m,\u001b[0m \u001b[0mhash_space\u001b[0m\u001b[1;33m)\u001b[0m \u001b[1;32mfor\u001b[0m \u001b[0mi\u001b[0m \u001b[1;32min\u001b[0m \u001b[0mrange\u001b[0m\u001b[1;33m(\u001b[0m\u001b[0mclient_num\u001b[0m\u001b[1;33m)\u001b[0m\u001b[1;33m]\u001b[0m\u001b[1;33m\u001b[0m\u001b[1;33m\u001b[0m\u001b[0m\n\u001b[0m\u001b[0;32m      5\u001b[0m     \u001b[1;32mfor\u001b[0m \u001b[0mj\u001b[0m \u001b[1;32min\u001b[0m \u001b[0mrange\u001b[0m\u001b[1;33m(\u001b[0m\u001b[0mlen\u001b[0m\u001b[1;33m(\u001b[0m\u001b[0ms_k\u001b[0m\u001b[1;33m)\u001b[0m\u001b[1;33m)\u001b[0m\u001b[1;33m:\u001b[0m\u001b[1;33m\u001b[0m\u001b[1;33m\u001b[0m\u001b[0m\n\u001b[0;32m      6\u001b[0m         \u001b[1;32mif\u001b[0m \u001b[0mcount_datas\u001b[0m\u001b[1;33m[\u001b[0m\u001b[0mp\u001b[0m\u001b[1;33m]\u001b[0m\u001b[1;33m[\u001b[0m\u001b[0mj\u001b[0m\u001b[1;33m]\u001b[0m \u001b[1;33m==\u001b[0m \u001b[1;36m0\u001b[0m\u001b[1;33m:\u001b[0m\u001b[1;33m\u001b[0m\u001b[1;33m\u001b[0m\u001b[0m\n",
      "\u001b[1;32m<ipython-input-26-be4f809a0620>\u001b[0m in \u001b[0;36m<listcomp>\u001b[1;34m(.0)\u001b[0m\n\u001b[0;32m      2\u001b[0m     \u001b[0mclient_num\u001b[0m \u001b[1;33m=\u001b[0m \u001b[1;36m10\u001b[0m \u001b[1;33m**\u001b[0m \u001b[0ms_power\u001b[0m\u001b[1;33m[\u001b[0m\u001b[0mp\u001b[0m\u001b[1;33m]\u001b[0m\u001b[1;33m\u001b[0m\u001b[1;33m\u001b[0m\u001b[0m\n\u001b[0;32m      3\u001b[0m     \u001b[0mhash_space\u001b[0m \u001b[1;33m=\u001b[0m \u001b[0mint\u001b[0m\u001b[1;33m(\u001b[0m\u001b[0mclient_num\u001b[0m \u001b[1;33m/\u001b[0m \u001b[1;36m500\u001b[0m\u001b[1;33m)\u001b[0m\u001b[1;33m\u001b[0m\u001b[1;33m\u001b[0m\u001b[0m\n\u001b[1;32m----> 4\u001b[1;33m     \u001b[0mhash_list\u001b[0m \u001b[1;33m=\u001b[0m \u001b[1;33m[\u001b[0m\u001b[0mrandom\u001b[0m\u001b[1;33m.\u001b[0m\u001b[0mrandint\u001b[0m\u001b[1;33m(\u001b[0m\u001b[1;36m1\u001b[0m\u001b[1;33m,\u001b[0m \u001b[0mhash_space\u001b[0m\u001b[1;33m)\u001b[0m \u001b[1;32mfor\u001b[0m \u001b[0mi\u001b[0m \u001b[1;32min\u001b[0m \u001b[0mrange\u001b[0m\u001b[1;33m(\u001b[0m\u001b[0mclient_num\u001b[0m\u001b[1;33m)\u001b[0m\u001b[1;33m]\u001b[0m\u001b[1;33m\u001b[0m\u001b[1;33m\u001b[0m\u001b[0m\n\u001b[0m\u001b[0;32m      5\u001b[0m     \u001b[1;32mfor\u001b[0m \u001b[0mj\u001b[0m \u001b[1;32min\u001b[0m \u001b[0mrange\u001b[0m\u001b[1;33m(\u001b[0m\u001b[0mlen\u001b[0m\u001b[1;33m(\u001b[0m\u001b[0ms_k\u001b[0m\u001b[1;33m)\u001b[0m\u001b[1;33m)\u001b[0m\u001b[1;33m:\u001b[0m\u001b[1;33m\u001b[0m\u001b[1;33m\u001b[0m\u001b[0m\n\u001b[0;32m      6\u001b[0m         \u001b[1;32mif\u001b[0m \u001b[0mcount_datas\u001b[0m\u001b[1;33m[\u001b[0m\u001b[0mp\u001b[0m\u001b[1;33m]\u001b[0m\u001b[1;33m[\u001b[0m\u001b[0mj\u001b[0m\u001b[1;33m]\u001b[0m \u001b[1;33m==\u001b[0m \u001b[1;36m0\u001b[0m\u001b[1;33m:\u001b[0m\u001b[1;33m\u001b[0m\u001b[1;33m\u001b[0m\u001b[0m\n",
      "\u001b[1;31mMemoryError\u001b[0m: "
     ]
    }
   ],
   "source": [
    "\n",
    "for p in range(3,4):\n",
    "    client_num = 10 ** s_power[p]\n",
    "    hash_space = int(client_num / 500)\n",
    "    hash_list = [random.randint(1, hash_space) for i in range(client_num)]\n",
    "    for j in range(len(s_k)):\n",
    "        if count_datas[p][j] == 0:\n",
    "            hash_k = s_k[j]\n",
    "            st = time.perf_counter()\n",
    "            stat = collections.Counter(hash_list)\n",
    "            stat = list(stat.items()) #频次列表\n",
    "            #print(stat)\n",
    "            et = time.perf_counter()\n",
    "            count_datas[p][j] = et-st\n",
    "            print(\"Count costs: {:.4f}s\".format((et-st)))\n",
    "            print(j,end = ',')\n",
    "            \n",
    "            st = time.perf_counter()\n",
    "            base_result = BaseSort(hash_list,hash_k,stat)\n",
    "            et = time.perf_counter()\n",
    "            base_datas[p][j] = et-st\n",
    "            \n",
    "            st = time.perf_counter()\n",
    "            heap_result = HeapFrequent(hash_list,hash_k,stat)\n",
    "            et = time.perf_counter()\n",
    "            heap_datas[p][j] = et-st\n",
    "\n",
    "            st = time.perf_counter()\n",
    "            bucket_result = BucketFrequent(hash_list,hash_k,hash_space,stat)\n",
    "            et = time.perf_counter()\n",
    "            bucket_datas[p][j] = et-st\n",
    "\n",
    "            print(k,end = ',')"
   ]
  },
  {
   "cell_type": "code",
   "execution_count": 53,
   "metadata": {},
   "outputs": [
    {
     "data": {
      "text/plain": [
       "16.11809565095832"
      ]
     },
     "execution_count": 53,
     "metadata": {},
     "output_type": "execute_result"
    }
   ],
   "source": [
    "math.log(client_num)"
   ]
  },
  {
   "cell_type": "code",
   "execution_count": 25,
   "metadata": {},
   "outputs": [
    {
     "data": {
      "text/plain": [
       "[0, 1, 2]"
      ]
     },
     "execution_count": 25,
     "metadata": {},
     "output_type": "execute_result"
    }
   ],
   "source": [
    "list(range(3))\n"
   ]
  },
  {
   "cell_type": "code",
   "execution_count": 18,
   "metadata": {
    "scrolled": true
   },
   "outputs": [
    {
     "name": "stdout",
     "output_type": "stream",
     "text": [
      "[[ 0.0350243  0.0350931  0.0355179  0.0353041  0.0354417  0.0344587\n",
      "   0.0344811  0.0351545  0.0346498]\n",
      " [ 0.5843058  0.52981    0.5306835  0.9529362  0.5071953  0.5195359\n",
      "   0.5112306  0.533784   0.9476811]\n",
      " [17.0368663 15.9008414 15.8126735 16.0458307 16.3124926 16.4702285\n",
      "  16.3545783 16.2321129 17.4694494]\n",
      " [ 0.         0.         0.         0.         0.         0.\n",
      "   0.         0.         0.       ]\n",
      " [ 0.         0.         0.         0.         0.         0.\n",
      "   0.         0.         0.       ]\n",
      " [ 0.         0.         0.         0.         0.         0.\n",
      "   0.         0.         0.       ]]\n"
     ]
    }
   ],
   "source": [
    "print(count_datas)"
   ]
  },
  {
   "cell_type": "code",
   "execution_count": 23,
   "metadata": {},
   "outputs": [
    {
     "name": "stdout",
     "output_type": "stream",
     "text": [
      "0.0002661000000898639 0.00015159999998104468 0.004588699999999335\n",
      "0.00025560000005953043 0.00016019999998206913 0.00036330000000361906\n",
      "0.00025909999999385036 0.00016180000000076689 0.00039079999999103165\n",
      "0.0002607000000125481 0.00016279999999824213 0.37855210000009265\n",
      "0.00026890000003731984 0.00016360000006443443 0.00036069999998744606\n",
      "0.0002575999999407941 0.000176199999941673 0.0003575000000637374\n",
      "0.0002555999999458436 0.00018569999997453124 0.0003507999999783351\n",
      "0.00025699999991957156 0.00018499999998766725 0.0003553000000238171\n",
      "0.0002527000000327462 0.0001907000000755943 0.0003513999999995576\n",
      "\n",
      "0.00276239999993777 0.001393699999994169 0.4374801999999818\n",
      "0.0027131999999028267 0.0014453999999659572 0.0033086000000821514\n",
      "0.003304899999989175 0.002739500000075168 0.0054337999999916065\n",
      "0.0028180000000475047 0.0014470999999502965 0.0033238999999412044\n",
      "0.002597000000037042 0.001356700000087585 0.003269100000011349\n",
      "0.002919000000019878 0.0015452000000095722 0.44065309999996316\n",
      "0.0028502000000116823 0.0015323000000080356 0.0034402000000000044\n",
      "0.0027919999999994616 0.00149629999998524 0.0038357999999334425\n",
      "0.0030468000001064866 0.0016110999999909836 0.0037788999999293083\n",
      "\n",
      "0.045205600000031154 0.025115200000072946 1.6032579000000169\n",
      "0.0442892999999458 0.018918600000006336 1.5756622999999763\n",
      "0.03781479999997828 0.022363799999993716 1.5760003999998844\n",
      "0.04155750000018088 0.023061500000039814 1.6191268999998556\n",
      "0.044314299999996365 0.018579599999839047 1.6439525999999205\n",
      "0.047382199999901786 0.019143400000075417 1.5850986000000375\n",
      "0.04127610000000459 0.0189672999999857 1.6228002000000288\n",
      "0.05168690000004972 0.021062399999891568 1.6468692000000829\n",
      "0.044614999999794236 0.02105699999992794 1.5928733000000648\n",
      "\n"
     ]
    }
   ],
   "source": [
    "for i in range(3):\n",
    "    for j in range(9):\n",
    "        #print(count_datas[i][j],\" \",heap_datas[i][j],\" \",bucket_datas[i][j],end=\" \")\n",
    "        print(base_datas[i][j],heap_datas[i][j],bucket_datas[i][j])\n",
    "    print()"
   ]
  },
  {
   "cell_type": "code",
   "execution_count": null,
   "metadata": {
    "collapsed": true
   },
   "outputs": [],
   "source": []
  }
 ],
 "metadata": {
  "kernelspec": {
   "display_name": "Python 3",
   "language": "python",
   "name": "python3"
  },
  "language_info": {
   "codemirror_mode": {
    "name": "ipython",
    "version": 3
   },
   "file_extension": ".py",
   "mimetype": "text/x-python",
   "name": "python",
   "nbconvert_exporter": "python",
   "pygments_lexer": "ipython3",
   "version": "3.8.8"
  }
 },
 "nbformat": 4,
 "nbformat_minor": 2
}
