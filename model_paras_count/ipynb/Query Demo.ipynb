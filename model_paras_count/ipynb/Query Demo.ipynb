{
 "cells": [
  {
   "cell_type": "code",
   "execution_count": 1,
   "metadata": {},
   "outputs": [],
   "source": [
    "import numpy as np\n",
    "import collections\n",
    "from collections import defaultdict\n",
    "import random"
   ]
  },
  {
   "cell_type": "markdown",
   "metadata": {},
   "source": [
    "### 问题\n",
    "对一个数组 nums 和一个整数 k ，返回其中出现频率前 k 高的元素"
   ]
  },
  {
   "cell_type": "markdown",
   "metadata": {},
   "source": [
    "### Demo Case"
   ]
  },
  {
   "cell_type": "code",
   "execution_count": 7,
   "metadata": {},
   "outputs": [],
   "source": [
    "nums = [1,1,1,1,1,2,2,3,3,3,3,3,3,3,6,6,6,6,4,4,4,4,4,4,9,7,7,7,7]\n",
    "k = 3"
   ]
  },
  {
   "cell_type": "markdown",
   "metadata": {},
   "source": [
    "- 统计不重复元素的频数  $O(n)$"
   ]
  },
  {
   "cell_type": "code",
   "execution_count": 8,
   "metadata": {},
   "outputs": [
    {
     "data": {
      "text/plain": [
       "[(1, 5), (2, 2), (3, 7), (6, 4), (4, 6), (9, 1), (7, 4)]"
      ]
     },
     "execution_count": 8,
     "metadata": {},
     "output_type": "execute_result"
    }
   ],
   "source": [
    "stat = collections.Counter(nums)\n",
    "stat = list(stat.items()) #频次列表\n",
    "stat"
   ]
  },
  {
   "cell_type": "markdown",
   "metadata": {},
   "source": [
    "### 1.基于堆（小顶堆）\n",
    "时间复杂度：$O(nlogk)$\n",
    "空间复杂度：$O(k)$"
   ]
  },
  {
   "cell_type": "code",
   "execution_count": 4,
   "metadata": {
    "collapsed": true
   },
   "outputs": [],
   "source": [
    "#取父/子节点基本操作\n",
    "def lchild(node):\n",
    "    return node << 1\n",
    "def rchild(node):\n",
    "    return node << 1 | 1\n",
    "def father(node):\n",
    "    return node >> 1\n",
    "#上浮节点，用于向堆插入新节点\n",
    "def heap_up(heap,node):\n",
    "    val = heap[node]\n",
    "    while father(node)>0 and val[1]<heap[father(node)][1]:\n",
    "        heap[node] = heap[father(node)]\n",
    "        node = father(node)\n",
    "    heap[node] = val\n",
    "#下沉节点，用于调整堆\n",
    "def heap_down(heap,node,k):\n",
    "    root = node #root作为变量逐步下沉\n",
    "    val = heap[node] #存储node原值\n",
    "    while lchild(root) <= k:\n",
    "        child = lchild(root) #先选取左子节点\n",
    "        if rchild(root) <= k and child < rchild(root): #如果右更小，选取右子节点\n",
    "            child = rchild(root)\n",
    "        #验证确实当前节点值大于选取的子节点，则交换\n",
    "        if heap[child][1] < val[1]:\n",
    "            heap[root] = heap[child]\n",
    "            root = child\n",
    "        else: #否则则找到位置，结束循环\n",
    "            break\n",
    "    heap[root] = val #最后赋值\n",
    "#堆排序输出\n",
    "def heap_sort(heap):\n",
    "    for i in range(len(heap)-1, 0, -1):\n",
    "        heap[1], heap[i] = heap[i], heap[1]\n",
    "        heap_down(heap, 1, i)\n",
    "#主函数\n",
    "def HeapFrequent(nums,k,stat):\n",
    "    #stat = collections.Counter(nums)\n",
    "    #stat = list(stat.items())\n",
    "    heap = [(0,0)] #占位上界\n",
    "    #使用heap_up()建堆 规模：k+1(包括占位上界) \n",
    "    for i in range(k):\n",
    "        heap.append(stat[i])\n",
    "        heap_up(heap, len(heap)-1)\n",
    "    #使用heap_down()维护堆 新元素大于堆顶即下沉\n",
    "    for i in range(k,len(stat)):\n",
    "        if stat[i][1] > heap[1][1]: #heap[1]为堆顶\n",
    "            heap[1] = stat[i] #去除原根（堆顶）节点\n",
    "            heap_down(heap,1,k) #将node下沉\n",
    "    #使用heap_sort()排序，并倒序得到从大到小结果\n",
    "    heap_sort(heap)\n",
    "    result = heap[1:][::-1]\n",
    "    return result"
   ]
  },
  {
   "cell_type": "code",
   "execution_count": 5,
   "metadata": {},
   "outputs": [
    {
     "data": {
      "text/plain": [
       "[(3, 7), (4, 6), (1, 5)]"
      ]
     },
     "execution_count": 5,
     "metadata": {},
     "output_type": "execute_result"
    }
   ],
   "source": [
    "HeapFrequent(nums,k,stat)"
   ]
  },
  {
   "cell_type": "markdown",
   "metadata": {},
   "source": [
    "### 2.基于桶排序\n",
    "哈希空间集中时，时间、空间复杂度均接近$O(n)$ \n",
    "分散时则增添很多无谓循环开销"
   ]
  },
  {
   "cell_type": "code",
   "execution_count": 4,
   "metadata": {},
   "outputs": [],
   "source": [
    "def BucketFrequent(nums,k,spacesize,stat):\n",
    "    #stat = collections.Counter(nums)\n",
    "    #stat = list(stat.items())\n",
    "    Bucket = [[] for i in range(spacesize)]\n",
    "    for s in stat:\n",
    "        Bucket[s[1]].append(s)\n",
    "        \n",
    "    r = 0\n",
    "    flag = False\n",
    "    result = []\n",
    "    for i in range(len(Bucket)-1,-1,-1):\n",
    "        if not flag and Bucket[i] != []:\n",
    "            for s in Bucket[i]:\n",
    "                result.append(s)\n",
    "                r += 1\n",
    "                if r == k:\n",
    "                    flag = True\n",
    "                    break\n",
    "    return result"
   ]
  },
  {
   "cell_type": "code",
   "execution_count": 5,
   "metadata": {},
   "outputs": [
    {
     "data": {
      "text/plain": [
       "[(3, 7), (4, 6), (1, 5)]"
      ]
     },
     "execution_count": 5,
     "metadata": {},
     "output_type": "execute_result"
    }
   ],
   "source": [
    "space = 10\n",
    "BucketFrequent(nums,k,space,stat)"
   ]
  },
  {
   "cell_type": "code",
   "execution_count": 43,
   "metadata": {},
   "outputs": [],
   "source": [
    "def BucketElement(nums,k,spacesize):\n",
    "    stat_dict = defaultdict(list)\n",
    "    for i,s in enumerate(nums):\n",
    "        stat_dict[s].append(i)\n",
    "    stat_keys = list(stat_dict.keys())\n",
    "    stat = [(key,len(stat_dict[key])) for key in stat_keys]\n",
    "    frequent = BucketFrequent(nums,k,spacesize,stat)\n",
    "    print(frequent)\n",
    "    elements = [(freq[0],freq[1],stat_dict[freq[0]]) for freq in frequent]\n",
    "    print(elements)\n",
    "    #print(stat)\n",
    "    #Bucket = [[] for i in range(spacesize)]\n",
    "    \n",
    "    #print(stat_dict)\n",
    "    #stat_keys = list(stat_dict.keys())\n",
    "    #stat_keys.sort(reverse=True)\n",
    "    #result = []\n",
    "    #for i in range(k):\n",
    "    #    result.append((stat_keys[i],stat_dict[stat_keys[i]]))\n",
    "    #return result"
   ]
  },
  {
   "cell_type": "code",
   "execution_count": 44,
   "metadata": {},
   "outputs": [
    {
     "name": "stdout",
     "output_type": "stream",
     "text": [
      "[(3, 7), (4, 6), (1, 5)]\n",
      "[(3, 7, [7, 8, 9, 10, 11, 12, 13]), (4, 6, [18, 19, 20, 21, 22, 23]), (1, 5, [0, 1, 2, 3, 4])]\n"
     ]
    }
   ],
   "source": [
    "BucketElement(nums,k,space)"
   ]
  },
  {
   "cell_type": "code",
   "execution_count": 19,
   "metadata": {},
   "outputs": [],
   "source": [
    "\n",
    "stat_dict = defaultdict(list)\n",
    "for i,s in enumerate(nums):\n",
    "    stat_dict[s].append(i)"
   ]
  },
  {
   "cell_type": "code",
   "execution_count": 22,
   "metadata": {},
   "outputs": [],
   "source": [
    "stat_keys = list(stat_dict.keys())\n",
    "stat_keys.sort(reverse=True)"
   ]
  },
  {
   "cell_type": "code",
   "execution_count": 23,
   "metadata": {},
   "outputs": [
    {
     "data": {
      "text/plain": [
       "[9, 7, 6, 4, 3, 2, 1]"
      ]
     },
     "execution_count": 23,
     "metadata": {},
     "output_type": "execute_result"
    }
   ],
   "source": [
    "for i in range(k):\n",
    "    result.append(stat_keys[i],stat_dict[stat_keys[i]])\n",
    "return result"
   ]
  },
  {
   "cell_type": "code",
   "execution_count": 3,
   "metadata": {},
   "outputs": [
    {
     "data": {
      "text/plain": [
       "0.5088196162299449"
      ]
     },
     "execution_count": 3,
     "metadata": {},
     "output_type": "execute_result"
    }
   ],
   "source": [
    "np.random.choice(, 20, replace=False)"
   ]
  },
  {
   "cell_type": "code",
   "execution_count": null,
   "metadata": {},
   "outputs": [],
   "source": []
  }
 ],
 "metadata": {
  "kernelspec": {
   "display_name": "Python 3",
   "language": "python",
   "name": "python3"
  },
  "language_info": {
   "codemirror_mode": {
    "name": "ipython",
    "version": 3
   },
   "file_extension": ".py",
   "mimetype": "text/x-python",
   "name": "python",
   "nbconvert_exporter": "python",
   "pygments_lexer": "ipython3",
   "version": "3.8.8"
  }
 },
 "nbformat": 4,
 "nbformat_minor": 2
}
